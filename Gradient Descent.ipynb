{
 "cells": [
  {
   "cell_type": "markdown",
   "id": "309bab43-333d-4706-8dc2-cdf016ddbe89",
   "metadata": {},
   "source": [
    "# Gradient Descent"
   ]
  },
  {
   "cell_type": "markdown",
   "id": "242a8c14-6cd5-4332-b225-61e4ba54d08f",
   "metadata": {},
   "source": []
  },
  {
   "cell_type": "markdown",
   "id": "f2a38f29-b6d4-471f-ada5-a65905b8866f",
   "metadata": {},
   "source": [
    "### Import Libraries"
   ]
  },
  {
   "cell_type": "code",
   "execution_count": 53,
   "id": "7b878941-b052-43d6-8354-7365900da693",
   "metadata": {},
   "outputs": [],
   "source": [
    "import numpy as np"
   ]
  },
  {
   "cell_type": "markdown",
   "id": "c024cda1-5bb8-4d88-8f55-ea3298b62674",
   "metadata": {},
   "source": [
    "### Randomly Create Data "
   ]
  },
  {
   "cell_type": "code",
   "execution_count": 54,
   "id": "a99c45cb-7eb8-4e7a-b37e-80b9c88b8d05",
   "metadata": {},
   "outputs": [],
   "source": [
    "x = np.random.randn(100,1)"
   ]
  },
  {
   "cell_type": "code",
   "execution_count": 55,
   "id": "162ea09f-a498-44fc-bec7-7de873b08f7d",
   "metadata": {},
   "outputs": [],
   "source": [
    "y= 3*x + 4 + np.random.randn(100,1)"
   ]
  },
  {
   "cell_type": "markdown",
   "id": "80f39971-01a8-4ae5-a0e4-05a9413a9981",
   "metadata": {},
   "source": [
    "**Regression Formula**\n",
    "\n",
    "y = mx + b\n"
   ]
  },
  {
   "cell_type": "code",
   "execution_count": 56,
   "id": "a92b2a0d-1a3c-41f3-877f-df0a209b0fd8",
   "metadata": {},
   "outputs": [],
   "source": [
    "# yhat = m*x + b\n",
    "\n",
    "## Loss Function\n",
    "# Loss = np.sum((y - yhat)**2)\n",
    "# Loss = np.sum((y-(mx+b))**2)\n",
    "\n",
    "## Derivatives of m,b \n",
    "# loss drdm = 2(y-(mx+b))(-x)\n",
    "# Loss drdb = 2(y-(mx+b))(-1)"
   ]
  },
  {
   "cell_type": "markdown",
   "id": "8ceaa069-b5b3-4d29-a358-0541fa5c0a0e",
   "metadata": {},
   "source": [
    "### Initial values of parameters"
   ]
  },
  {
   "cell_type": "code",
   "execution_count": 57,
   "id": "5a19b24d-2e17-41fd-ade2-79a4b16e6565",
   "metadata": {},
   "outputs": [],
   "source": [
    "m=0\n",
    "b=0\n",
    "lr=0.01  #Learning rate"
   ]
  },
  {
   "cell_type": "markdown",
   "id": "7b799f06-1fda-420f-a50a-ca0ab66e6337",
   "metadata": {},
   "source": [
    "### Gradient Descent Function"
   ]
  },
  {
   "cell_type": "code",
   "execution_count": 58,
   "id": "ec0f0da6-3895-40f9-bf35-3d4d7146ecd4",
   "metadata": {},
   "outputs": [],
   "source": [
    "# We will keep the values in lists\n",
    "loss_list = []\n",
    "m_list = [0]\n",
    "b_list = [0]\n",
    "\n",
    "n=x.shape[0]   # number of observation\n",
    "\n",
    "\n",
    "# GD function\n",
    "def cal_grad(x,y,m,b,lr):\n",
    "    \n",
    "    drdm=0\n",
    "    drdb=0\n",
    "    \n",
    "    loss = np.sum((y-(m*x + b))**2)\n",
    "    loss_list.append(loss)\n",
    "    \n",
    "    for xi,yi in zip(x,y):\n",
    "        \n",
    "        drdm += -2*xi*(yi-(m*xi + b))\n",
    "        drdb += -2*(yi-(m*xi + b))\n",
    "        \n",
    "    m = m - lr*(1/n)*drdm\n",
    "    b = b - lr*(1/n)*drdb\n",
    "        \n",
    "    m_list.append(m)\n",
    "    b_list.append(b)\n",
    "    \n",
    "    return m,b\n",
    "    "
   ]
  },
  {
   "cell_type": "code",
   "execution_count": 62,
   "id": "7bb1bae8-82f3-4ef3-8fa0-6ff03535a55b",
   "metadata": {},
   "outputs": [
    {
     "name": "stdout",
     "output_type": "stream",
     "text": [
      "[3.09171103]\n",
      "[3.86280751]\n"
     ]
    }
   ],
   "source": [
    "# iterations\n",
    "\n",
    "for it in range(400):\n",
    "    m, b = cal_grad(x,y,m,b,lr)\n",
    "    \n",
    "print(m)\n",
    "print(b)\n",
    "    "
   ]
  },
  {
   "cell_type": "code",
   "execution_count": 69,
   "id": "1aa8333f-4bae-4012-aad1-22743b6dca8d",
   "metadata": {},
   "outputs": [
    {
     "name": "stdout",
     "output_type": "stream",
     "text": [
      "The final results of m, b are: 3.09 and  3.86\n"
     ]
    }
   ],
   "source": [
    "print(\"The final results of m, b are: {:.2f} and  {:.2f}\".format(m[0],b[0]))"
   ]
  },
  {
   "cell_type": "code",
   "execution_count": 71,
   "id": "44e084b2-7591-4593-96e5-3fc1be96c561",
   "metadata": {},
   "outputs": [
    {
     "name": "stdout",
     "output_type": "stream",
     "text": [
      "The true values of m, b are: 3 and  4\n"
     ]
    }
   ],
   "source": [
    "print(\"The true values of m, b are: 3 and  4\")"
   ]
  },
  {
   "cell_type": "markdown",
   "id": "a3ef31a9-0efc-4e76-bf48-4d57419a5cc4",
   "metadata": {},
   "source": [
    "### Loss Values During Iterations"
   ]
  },
  {
   "cell_type": "code",
   "execution_count": 78,
   "id": "acb1d0e8-0497-406f-a72c-9c64a2b824e7",
   "metadata": {},
   "outputs": [
    {
     "data": {
      "image/png": "[encoded data removed]",
      "text/plain": [
       "<Figure size 720x432 with 1 Axes>"
      ]
     },
     "metadata": {
      "needs_background": "light"
     },
     "output_type": "display_data"
    }
   ],
   "source": [
    "import matplotlib.pyplot as plt\n",
    "fig = plt.figure(figsize=(10,6))\n",
    "ax = plt.plot(np.array(loss_list))\n",
    "plt.xlim([-5,500])\n",
    "plt.show()"
   ]
  },
  {
   "cell_type": "markdown",
   "id": "4246d4bb-a126-4583-8d0c-f315fb3f8546",
   "metadata": {},
   "source": [
    "# Thanks!"
   ]
  }
 ],
 "metadata": {
  "kernelspec": {
   "display_name": "Python 3 (ipykernel)",
   "language": "python",
   "name": "python3"
  },
  "language_info": {
   "codemirror_mode": {
    "name": "ipython",
    "version": 3
   },
   "file_extension": ".py",
   "mimetype": "text/x-python",
   "name": "python",
   "nbconvert_exporter": "python",
   "pygments_lexer": "ipython3",
   "version": "3.10.4"
  }
 },
 "nbformat": 4,
 "nbformat_minor": 5
}
